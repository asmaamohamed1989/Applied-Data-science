{
  "nbformat": 4,
  "nbformat_minor": 0,
  "metadata": {
    "colab": {
      "provenance": [],
      "authorship_tag": "ABX9TyO7X/eVfDDpqrdxqM4DSjMH",
      "include_colab_link": true
    },
    "kernelspec": {
      "name": "python3",
      "display_name": "Python 3"
    },
    "language_info": {
      "name": "python"
    }
  },
  "cells": [
    {
      "cell_type": "markdown",
      "metadata": {
        "id": "view-in-github",
        "colab_type": "text"
      },
      "source": [
        "<a href=\"https://colab.research.google.com/github/asmaamohamed1989/Applied-Data-science/blob/main/Project_1_Rock_paper_scissors.ipynb\" target=\"_parent\"><img src=\"https://colab.research.google.com/assets/colab-badge.svg\" alt=\"Open In Colab\"/></a>"
      ]
    },
    {
      "cell_type": "code",
      "execution_count": null,
      "metadata": {
        "colab": {
          "base_uri": "https://localhost:8080/"
        },
        "id": "GAez2dQOw4dL",
        "outputId": "6c1ec31a-0930-4262-b6c5-e8c24cde4de5"
      },
      "outputs": [
        {
          "output_type": "stream",
          "name": "stdout",
          "text": [
            "Enter a choice (rock, paper, scissors): rock\n",
            "\n",
            "You chose rock, computer chose paper.\n",
            "\n",
            "Paper covers rock! You lose.\n",
            "Play again? (y/n): y\n",
            "Enter a choice (rock, paper, scissors): paper\n",
            "\n",
            "You chose paper, computer chose scissors.\n",
            "\n",
            "Scissors cuts paper! You lose.\n"
          ]
        }
      ],
      "source": [
        "import random\n",
        "\n",
        "while True:\n",
        "    user_action = input(\"Enter a choice (rock, paper, scissors): \")\n",
        "    possible_actions = [\"rock\", \"paper\", \"scissors\"]\n",
        "    computer_action = random.choice(possible_actions)\n",
        "    print(f\"\\nYou chose {user_action}, computer chose {computer_action}.\\n\")\n",
        "\n",
        "    if user_action == computer_action:\n",
        "        print(f\"Both players selected {user_action}. It's a tie!\")\n",
        "    elif user_action == \"rock\":\n",
        "        if computer_action == \"scissors\":\n",
        "            print(\"Rock smashes scissors! You win!\")\n",
        "        else:\n",
        "            print(\"Paper covers rock! You lose.\")\n",
        "    elif user_action == \"paper\":\n",
        "        if computer_action == \"rock\":\n",
        "            print(\"Paper covers rock! You win!\")\n",
        "        else:\n",
        "            print(\"Scissors cuts paper! You lose.\")\n",
        "    elif user_action == \"scissors\":\n",
        "        if computer_action == \"paper\":\n",
        "            print(\"Scissors cuts paper! You win!\")\n",
        "        else:\n",
        "            print(\"Rock smashes scissors! You lose.\")\n",
        "\n",
        "    play_again = input(\"Play again? (y/n): \")\n",
        "    if play_again.lower() != \"y\":\n",
        "        break"
      ]
    }
  ]
}