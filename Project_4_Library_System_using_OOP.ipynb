{
  "nbformat": 4,
  "nbformat_minor": 0,
  "metadata": {
    "colab": {
      "provenance": [],
      "authorship_tag": "ABX9TyPVu4wL0D6C7wMTm+pc0OvF",
      "include_colab_link": true
    },
    "kernelspec": {
      "name": "python3",
      "display_name": "Python 3"
    },
    "language_info": {
      "name": "python"
    }
  },
  "cells": [
    {
      "cell_type": "markdown",
      "metadata": {
        "id": "view-in-github",
        "colab_type": "text"
      },
      "source": [
        "<a href=\"https://colab.research.google.com/github/asmaamohamed1989/Applied-Data-science/blob/main/Project_4_Library_System_using_OOP.ipynb\" target=\"_parent\"><img src=\"https://colab.research.google.com/assets/colab-badge.svg\" alt=\"Open In Colab\"/></a>"
      ]
    },
    {
      "cell_type": "code",
      "execution_count": null,
      "metadata": {
        "colab": {
          "base_uri": "https://localhost:8080/"
        },
        "id": "JpR1Ad41UhGk",
        "outputId": "efea79f9-8a6f-4427-9a2e-2fa00d4ed9ca"
      },
      "outputs": [
        {
          "output_type": "stream",
          "name": "stdout",
          "text": [
            "\t\t\t\t\t\t\t♦♦♦♦♦♦♦ WELCOME TO THE DELHI LIBRARY ♦♦♦♦♦♦♦\n",
            "\n",
            "CHOOSE WHAT YOU WANT TO DO:-\n",
            "1. Listing all books\n",
            "2. Borrow books\n",
            "3. Return books\n",
            "4. Donate books\n",
            "5. Track books\n",
            "6. exit the library\n",
            "\n",
            "Enter your choice: 1. Listing all books\n",
            "invalid literal for int() with base 10: '1. Listing all books'---> INVALID INPUT! \n",
            "\n",
            "Enter your choice: 1\n",
            "\n",
            "6 AVAILABLE BOOKS ARE: \n",
            " ♦-- vistas\n",
            " ♦-- invention\n",
            " ♦-- rich&poor\n",
            " ♦-- indian\n",
            " ♦-- macroeconomics\n",
            " ♦-- microeconomics\n",
            "\n",
            "\n",
            "Enter your choice: vistas\n",
            "invalid literal for int() with base 10: 'vistas'---> INVALID INPUT! \n",
            "\n"
          ]
        }
      ],
      "source": [
        "class Library:\n",
        "    def __init__(self, listofBooks):\n",
        "        self.books = listofBooks\n",
        "\n",
        "    def displayAvailableBooks(self):\n",
        "        print(f\"\\n{len(self.books)} AVAILABLE BOOKS ARE: \")\n",
        "        for book in self.books:\n",
        "            print(\" ♦-- \" + book)\n",
        "        print(\"\\n\")\n",
        "\n",
        "    def borrowBook(self, name, bookname):\n",
        "        if bookname not in self.books:\n",
        "            print(\n",
        "                f\"{bookname} BOOK IS NOT AVAILABLE EITHER TAKEN BY SOMEONE ELSE, WAIT UNTIL HE RETURNED.\\n\")\n",
        "        else:\n",
        "            track.append({name: bookname})\n",
        "            print(\"BOOK ISSUED : THANK YOU KEEP IT WITH CARE AND RETURN ON TIME.\\n\")\n",
        "            self.books.remove(bookname)\n",
        "\n",
        "    def returnBook(self, bookname):\n",
        "        print(\"BOOK RETURNED : THANK YOU! \\n\")\n",
        "        self.books.append(bookname)\n",
        "\n",
        "    def donateBook(self, bookname):\n",
        "        print(\"BOOK DONATED : THANK YOU VERY MUCH, HAVE A GREAT DAY AHEAD.\\n\")\n",
        "        self.books.append(bookname)\n",
        "\n",
        "\n",
        "class Student():\n",
        "    def requestBook(self):\n",
        "        print(\"So, you want to borrow book!\")\n",
        "        self.book = input(\"Enter name of the book you want to borrow: \")\n",
        "        return self.book\n",
        "\n",
        "    def returnBook(self):\n",
        "        print(\"So, you want to return book!\")\n",
        "        name = input(\"Enter your name: \")\n",
        "        self.book = input(\"Enter name of the book you want to return: \")\n",
        "        if {name: self.book} in track:\n",
        "            track.remove({name: self.book})\n",
        "        return self.book\n",
        "\n",
        "    def donateBook(self):\n",
        "        print(\"Okay! you want to doante book!\")\n",
        "        self.book = input(\"Enter name of the book you want to donate: \")\n",
        "        return self.book\n",
        "\n",
        "\n",
        "if __name__ == \"__main__\":\n",
        "\n",
        "    Delhilibrary = Library(\n",
        "        [\"vistas\", \"invention\", \"rich&poor\", \"indian\", \"macroeconomics\", \"microeconomics\"])\n",
        "    student = Student()\n",
        "    track = []\n",
        "\n",
        "    print(\"\\t\\t\\t\\t\\t\\t\\t♦♦♦♦♦♦♦ WELCOME TO THE DELHI LIBRARY ♦♦♦♦♦♦♦\\n\")\n",
        "    print(\"\"\"CHOOSE WHAT YOU WANT TO DO:-\\n1. Listing all books\\n2. Borrow books\\n3. Return books\\n4. Donate books\\n5. Track books\\n6. exit the library\\n\"\"\")\n",
        "\n",
        "    while (True):\n",
        "        # print(track)\n",
        "        try:\n",
        "            usr_response = int(input(\"Enter your choice: \"))\n",
        "\n",
        "            if usr_response == 1:  # listing\n",
        "                Delhilibrary.displayAvailableBooks()\n",
        "            elif usr_response == 2:  # borrow\n",
        "                Delhilibrary.borrowBook(\n",
        "                    input(\"Enter your name: \"), student.requestBook())\n",
        "            elif usr_response == 3:  # return\n",
        "                Delhilibrary.returnBook(student.returnBook())\n",
        "            elif usr_response == 4:  # donate\n",
        "                Delhilibrary.donateBook(student.donateBook())\n",
        "            elif usr_response == 5:  # track\n",
        "                for i in track:\n",
        "                    for key, value in i.items():\n",
        "                        holder = key\n",
        "                        book = value\n",
        "                        print(f\"{book} book is taken/issued by {holder}.\")\n",
        "                print(\"\\n\")\n",
        "                if len(track) == 0:\n",
        "                    print(\"NO BOOKS ARE ISSUED!. \\n\")\n",
        "            \n",
        "            elif usr_response == 6: #exit\n",
        "                print(\"THANK YOU ! \\n\")\n",
        "                exit()\n",
        "            else:\n",
        "                print(\"INVAILD INPUT! \\n\")\n",
        "        except Exception as e:              #catch errors\n",
        "            print(f\"{e}---> INVALID INPUT! \\n\")"
      ]
    }
  ]
}